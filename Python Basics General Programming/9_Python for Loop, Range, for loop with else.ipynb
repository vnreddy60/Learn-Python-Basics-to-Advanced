{
 "cells": [
  {
   "cell_type": "code",
   "execution_count": 1,
   "id": "a1bf60b1",
   "metadata": {},
   "outputs": [],
   "source": [
    "#The for loop in Python is used to iterate over a sequence (list, tuple, string) or other iterable objects. \n",
    "#Iterating over a sequence is called traversal."
   ]
  },
  {
   "cell_type": "code",
   "execution_count": 6,
   "id": "86116586",
   "metadata": {},
   "outputs": [
    {
     "name": "stdout",
     "output_type": "stream",
     "text": [
      "The sum is:  45\n"
     ]
    }
   ],
   "source": [
    "numbers = [1,2,3,4,5,6,7,8,9]\n",
    "\n",
    "sum = 0\n",
    "\n",
    "for val in numbers:\n",
    "    sum += val\n",
    "print(\"The sum is: \", sum)"
   ]
  },
  {
   "cell_type": "code",
   "execution_count": 7,
   "id": "16c56661",
   "metadata": {},
   "outputs": [],
   "source": [
    "# Range Function\n",
    "# range(10) will generate numbers from 0 to 9 (10 Numbers)\n",
    "# we can also define the start, stop and step size as range(start, stop, step_size)\n",
    "# This function does not store all the values in memory; it would be inefficient. \n",
    "# So it remembers the start, stop, step size and generates the next number on the go.\n",
    "# To force this function to output all the items, we can use the function list()."
   ]
  },
  {
   "cell_type": "code",
   "execution_count": 8,
   "id": "68dbff95",
   "metadata": {},
   "outputs": [
    {
     "name": "stdout",
     "output_type": "stream",
     "text": [
      "range(0, 10)\n"
     ]
    }
   ],
   "source": [
    "print(range(10))"
   ]
  },
  {
   "cell_type": "code",
   "execution_count": 9,
   "id": "1ed47f53",
   "metadata": {},
   "outputs": [
    {
     "name": "stdout",
     "output_type": "stream",
     "text": [
      "[0, 1, 2, 3, 4, 5, 6, 7, 8, 9]\n"
     ]
    }
   ],
   "source": [
    "print(list(range(10)))"
   ]
  },
  {
   "cell_type": "code",
   "execution_count": 15,
   "id": "416c307a",
   "metadata": {},
   "outputs": [
    {
     "name": "stdout",
     "output_type": "stream",
     "text": [
      "[2, 3, 4, 5, 6, 7]\n"
     ]
    }
   ],
   "source": [
    "print(list(range(2,8)))"
   ]
  },
  {
   "cell_type": "code",
   "execution_count": 17,
   "id": "3c37d9bc",
   "metadata": {},
   "outputs": [
    {
     "name": "stdout",
     "output_type": "stream",
     "text": [
      "[1, 4, 7]\n"
     ]
    }
   ],
   "source": [
    "print(list(range(1,10,3)))"
   ]
  },
  {
   "cell_type": "code",
   "execution_count": 21,
   "id": "356009c3",
   "metadata": {},
   "outputs": [
    {
     "name": "stdout",
     "output_type": "stream",
     "text": [
      "I Like pop\n",
      "I Like rock\n",
      "I Like jazz\n"
     ]
    }
   ],
   "source": [
    "genre = ['pop','rock','jazz']\n",
    "\n",
    "for i in range(len(genre)):\n",
    "    print(\"I Like\",genre[i])"
   ]
  },
  {
   "cell_type": "code",
   "execution_count": 23,
   "id": "8439572e",
   "metadata": {},
   "outputs": [
    {
     "name": "stdout",
     "output_type": "stream",
     "text": [
      "1\n",
      "2\n",
      "34\n",
      "No items present\n"
     ]
    }
   ],
   "source": [
    "digits = [1,2,34]\n",
    "for i in digits:\n",
    "    print (i)\n",
    "else:\n",
    "    print(\"No items present\")"
   ]
  },
  {
   "cell_type": "code",
   "execution_count": 29,
   "id": "545a3d56",
   "metadata": {},
   "outputs": [
    {
     "name": "stdout",
     "output_type": "stream",
     "text": [
      "Enter the Student Name: Vinay\n",
      "No entry found for the student name\n"
     ]
    }
   ],
   "source": [
    "student_name = input('Enter the Student Name: ')\n",
    "\n",
    "marks = {'Vin':95,'Reddy':96, 'Kalluri':98}\n",
    "\n",
    "for students in marks:\n",
    "    if students == student_name:\n",
    "        print(marks[students])\n",
    "        break\n",
    "else:\n",
    "    print(\"No entry found for the student name\")"
   ]
  },
  {
   "cell_type": "code",
   "execution_count": null,
   "id": "f8d5545e",
   "metadata": {},
   "outputs": [],
   "source": []
  }
 ],
 "metadata": {
  "kernelspec": {
   "display_name": "Python 3 (ipykernel)",
   "language": "python",
   "name": "python3"
  },
  "language_info": {
   "codemirror_mode": {
    "name": "ipython",
    "version": 3
   },
   "file_extension": ".py",
   "mimetype": "text/x-python",
   "name": "python",
   "nbconvert_exporter": "python",
   "pygments_lexer": "ipython3",
   "version": "3.7.11"
  }
 },
 "nbformat": 4,
 "nbformat_minor": 5
}
