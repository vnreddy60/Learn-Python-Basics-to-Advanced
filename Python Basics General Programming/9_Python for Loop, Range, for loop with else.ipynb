{
 "cells": [
  {
   "cell_type": "code",
   "execution_count": 1,
   "id": "f43eef28",
   "metadata": {},
   "outputs": [],
   "source": [
    "#The for loop in Python is used to iterate over a sequence (list, tuple, string) or other iterable objects. \n",
    "#Iterating over a sequence is called traversal."
   ]
  },
  {
   "cell_type": "code",
   "execution_count": 6,
   "id": "ef61a865",
   "metadata": {},
   "outputs": [
    {
     "name": "stdout",
     "output_type": "stream",
     "text": [
      "The sum is:  45\n"
     ]
    }
   ],
   "source": [
    "numbers = [1,2,3,4,5,6,7,8,9]\n",
    "\n",
    "sum = 0\n",
    "\n",
    "for val in numbers:\n",
    "    sum += val\n",
    "print(\"The sum is: \", sum)"
   ]
  },
  {
   "cell_type": "code",
   "execution_count": 7,
   "id": "405136e9",
   "metadata": {},
   "outputs": [],
   "source": [
    "# Range Function\n",
    "# range(10) will generate numbers from 0 to 9 (10 Numbers)\n",
    "# we can also define the start, stop and step size as range(start, stop, step_size)\n",
    "# This function does not store all the values in memory; it would be inefficient. \n",
    "# So it remembers the start, stop, step size and generates the next number on the go.\n",
    "# To force this function to output all the items, we can use the function list()."
   ]
  },
  {
   "cell_type": "code",
   "execution_count": 8,
   "id": "aee18540",
   "metadata": {},
   "outputs": [
    {
     "name": "stdout",
     "output_type": "stream",
     "text": [
      "range(0, 10)\n"
     ]
    }
   ],
   "source": [
    "print(range(10))"
   ]
  },
  {
   "cell_type": "code",
   "execution_count": 9,
   "id": "eca3cf3f",
   "metadata": {},
   "outputs": [
    {
     "name": "stdout",
     "output_type": "stream",
     "text": [
      "[0, 1, 2, 3, 4, 5, 6, 7, 8, 9]\n"
     ]
    }
   ],
   "source": [
    "print(list(range(10)))"
   ]
  },
  {
   "cell_type": "code",
   "execution_count": 15,
   "id": "5f748a09",
   "metadata": {},
   "outputs": [
    {
     "name": "stdout",
     "output_type": "stream",
     "text": [
      "[2, 3, 4, 5, 6, 7]\n"
     ]
    }
   ],
   "source": [
    "print(list(range(2,8)))"
   ]
  },
  {
   "cell_type": "code",
   "execution_count": 17,
   "id": "3f50ae1f",
   "metadata": {},
   "outputs": [
    {
     "name": "stdout",
     "output_type": "stream",
     "text": [
      "[1, 4, 7]\n"
     ]
    }
   ],
   "source": [
    "print(list(range(1,10,3)))"
   ]
  },
  {
   "cell_type": "code",
   "execution_count": 21,
   "id": "3b4a6e63",
   "metadata": {},
   "outputs": [
    {
     "name": "stdout",
     "output_type": "stream",
     "text": [
      "I Like pop\n",
      "I Like rock\n",
      "I Like jazz\n"
     ]
    }
   ],
   "source": [
    "genre = ['pop','rock','jazz']\n",
    "\n",
    "for i in range(len(genre)):\n",
    "    print(\"I Like\",genre[i])"
   ]
  },
  {
   "cell_type": "code",
   "execution_count": null,
   "id": "5be91c21",
   "metadata": {},
   "outputs": [],
   "source": []
  }
 ],
 "metadata": {
  "kernelspec": {
   "display_name": "Python 3 (ipykernel)",
   "language": "python",
   "name": "python3"
  },
  "language_info": {
   "codemirror_mode": {
    "name": "ipython",
    "version": 3
   },
   "file_extension": ".py",
   "mimetype": "text/x-python",
   "name": "python",
   "nbconvert_exporter": "python",
   "pygments_lexer": "ipython3",
   "version": "3.7.11"
  }
 },
 "nbformat": 4,
 "nbformat_minor": 5
}
