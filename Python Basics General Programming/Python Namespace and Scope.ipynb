{
 "cells": [
  {
   "cell_type": "code",
   "execution_count": 2,
   "id": "5eb6a06b",
   "metadata": {},
   "outputs": [
    {
     "name": "stdout",
     "output_type": "stream",
     "text": [
      "id(2) =  140732266422720\n"
     ]
    }
   ],
   "source": [
    "a = 2\n",
    "\n",
    "print('id(2) = ', id(2))"
   ]
  },
  {
   "cell_type": "code",
   "execution_count": 3,
   "id": "5632ccc0",
   "metadata": {},
   "outputs": [
    {
     "name": "stdout",
     "output_type": "stream",
     "text": [
      "id(a) =  140732266422720\n"
     ]
    }
   ],
   "source": [
    "print('id(a) = ', id(a))"
   ]
  },
  {
   "cell_type": "code",
   "execution_count": 4,
   "id": "fd345d36",
   "metadata": {},
   "outputs": [],
   "source": [
    "### What is a Namespace in Python?\n",
    "#A namespace containing all the built-in names is created\n",
    "#when we start the Python interpreter and exists as long as the interpreter runs."
   ]
  },
  {
   "cell_type": "code",
   "execution_count": 5,
   "id": "5cc59810",
   "metadata": {},
   "outputs": [],
   "source": [
    "#At any given moment, there are at least three nested scopes.\n",
    "\n",
    "#Scope of the current function which has local names\n",
    "#Scope of the module which has global names\n",
    "#Outermost scope which has built-in names"
   ]
  },
  {
   "cell_type": "code",
   "execution_count": 6,
   "id": "63545a24",
   "metadata": {},
   "outputs": [],
   "source": [
    "#Example of Scope and Namespace in Python\n"
   ]
  },
  {
   "cell_type": "code",
   "execution_count": 7,
   "id": "2fce5203",
   "metadata": {},
   "outputs": [],
   "source": [
    "def outer_function():\n",
    "    b = 20\n",
    "    def inner_func():\n",
    "        c = 30\n",
    "\n",
    "a = 10"
   ]
  },
  {
   "cell_type": "code",
   "execution_count": 9,
   "id": "f0411ef6",
   "metadata": {},
   "outputs": [
    {
     "data": {
      "text/plain": [
       "10"
      ]
     },
     "execution_count": 9,
     "metadata": {},
     "output_type": "execute_result"
    }
   ],
   "source": [
    "a"
   ]
  },
  {
   "cell_type": "code",
   "execution_count": 10,
   "id": "47e26317",
   "metadata": {},
   "outputs": [
    {
     "ename": "NameError",
     "evalue": "name 'b' is not defined",
     "output_type": "error",
     "traceback": [
      "\u001b[1;31m---------------------------------------------------------------------------\u001b[0m",
      "\u001b[1;31mNameError\u001b[0m                                 Traceback (most recent call last)",
      "\u001b[1;32m~\\AppData\\Local\\Temp/ipykernel_28244/1685013873.py\u001b[0m in \u001b[0;36m<module>\u001b[1;34m\u001b[0m\n\u001b[1;32m----> 1\u001b[1;33m \u001b[0mb\u001b[0m\u001b[1;33m\u001b[0m\u001b[1;33m\u001b[0m\u001b[0m\n\u001b[0m",
      "\u001b[1;31mNameError\u001b[0m: name 'b' is not defined"
     ]
    }
   ],
   "source": [
    "b"
   ]
  },
  {
   "cell_type": "code",
   "execution_count": 11,
   "id": "374aafc2",
   "metadata": {},
   "outputs": [
    {
     "ename": "NameError",
     "evalue": "name 'c' is not defined",
     "output_type": "error",
     "traceback": [
      "\u001b[1;31m---------------------------------------------------------------------------\u001b[0m",
      "\u001b[1;31mNameError\u001b[0m                                 Traceback (most recent call last)",
      "\u001b[1;32m~\\AppData\\Local\\Temp/ipykernel_28244/3235490055.py\u001b[0m in \u001b[0;36m<module>\u001b[1;34m\u001b[0m\n\u001b[1;32m----> 1\u001b[1;33m \u001b[0mc\u001b[0m\u001b[1;33m\u001b[0m\u001b[1;33m\u001b[0m\u001b[0m\n\u001b[0m",
      "\u001b[1;31mNameError\u001b[0m: name 'c' is not defined"
     ]
    }
   ],
   "source": [
    "c"
   ]
  },
  {
   "cell_type": "code",
   "execution_count": 12,
   "id": "aab1038e",
   "metadata": {},
   "outputs": [],
   "source": [
    "#Scope of the variable changes based on the namespace it belongs too"
   ]
  },
  {
   "cell_type": "code",
   "execution_count": 13,
   "id": "82115d3a",
   "metadata": {},
   "outputs": [
    {
     "name": "stdout",
     "output_type": "stream",
     "text": [
      "a = 30\n",
      "a = 30\n",
      "a = 30\n"
     ]
    }
   ],
   "source": [
    "def outer_function():\n",
    "    global a\n",
    "    a = 20\n",
    "\n",
    "    def inner_function():\n",
    "        global a\n",
    "        a = 30\n",
    "        print('a =', a)\n",
    "\n",
    "    inner_function()\n",
    "    print('a =', a)\n",
    "\n",
    "\n",
    "a = 10\n",
    "outer_function()\n",
    "print('a =', a)"
   ]
  },
  {
   "cell_type": "code",
   "execution_count": 14,
   "id": "7a369c41",
   "metadata": {},
   "outputs": [],
   "source": [
    "# Here, all references and assignments are to the global a due to the use of keyword global."
   ]
  },
  {
   "cell_type": "code",
   "execution_count": null,
   "id": "c6d3c3d6",
   "metadata": {},
   "outputs": [],
   "source": []
  }
 ],
 "metadata": {
  "kernelspec": {
   "display_name": "Python 3 (ipykernel)",
   "language": "python",
   "name": "python3"
  },
  "language_info": {
   "codemirror_mode": {
    "name": "ipython",
    "version": 3
   },
   "file_extension": ".py",
   "mimetype": "text/x-python",
   "name": "python",
   "nbconvert_exporter": "python",
   "pygments_lexer": "ipython3",
   "version": "3.7.11"
  }
 },
 "nbformat": 4,
 "nbformat_minor": 5
}
