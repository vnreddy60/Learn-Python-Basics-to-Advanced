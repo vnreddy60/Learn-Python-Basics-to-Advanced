{
 "cells": [
  {
   "cell_type": "code",
   "execution_count": 1,
   "id": "a1b3b410",
   "metadata": {},
   "outputs": [],
   "source": [
    "#Decision making is required when we want to execute a code only if a certain condition is satisfied.\n",
    "\n",
    "#The if…elif…else statement is used in Python for decision making."
   ]
  },
  {
   "cell_type": "code",
   "execution_count": 6,
   "id": "f6246075",
   "metadata": {},
   "outputs": [
    {
     "name": "stdout",
     "output_type": "stream",
     "text": [
      "Positive Number\n"
     ]
    }
   ],
   "source": [
    "num = 3.4\n",
    "if num>0:\n",
    "    print('Positive Number')\n",
    "elif num == 0:\n",
    "    print('Zero')\n",
    "else:\n",
    "    print(\"Negative Number\")"
   ]
  },
  {
   "cell_type": "code",
   "execution_count": 16,
   "id": "234fdecd",
   "metadata": {},
   "outputs": [
    {
     "name": "stdout",
     "output_type": "stream",
     "text": [
      "Enter a Number: 10.25\n",
      "Positive Number\n"
     ]
    }
   ],
   "source": [
    "num = float(input('Enter a Number: '))\n",
    "\n",
    "if num >=0:\n",
    "    if num==0:\n",
    "        print(\"Zero\")\n",
    "    else:\n",
    "        print(\"Positive Number\")\n",
    "else:\n",
    "    print(\"Negative Number\")"
   ]
  },
  {
   "cell_type": "code",
   "execution_count": null,
   "id": "fd5f6ce3",
   "metadata": {},
   "outputs": [],
   "source": []
  }
 ],
 "metadata": {
  "kernelspec": {
   "display_name": "Python 3 (ipykernel)",
   "language": "python",
   "name": "python3"
  },
  "language_info": {
   "codemirror_mode": {
    "name": "ipython",
    "version": 3
   },
   "file_extension": ".py",
   "mimetype": "text/x-python",
   "name": "python",
   "nbconvert_exporter": "python",
   "pygments_lexer": "ipython3",
   "version": "3.7.11"
  }
 },
 "nbformat": 4,
 "nbformat_minor": 5
}
