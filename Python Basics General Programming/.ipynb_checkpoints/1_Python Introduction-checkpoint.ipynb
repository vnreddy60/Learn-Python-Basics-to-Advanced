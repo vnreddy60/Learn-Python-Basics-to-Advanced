{
 "cells": [
  {
   "cell_type": "markdown",
   "id": "590513ed",
   "metadata": {},
   "source": [
    "## Introduction to Python\n",
    "\n",
    "### Python is a powerful general-purpose programming language. It is used in web development, data science, creating software prototypes, and so on. Fortunately for beginners, Python has simple easy-to-use syntax. This makes Python an excellent language to learn to program for beginners.\n",
    "\n",
    "### Guido Van Rossum\n",
    "\n",
    "### Python Software Foundation\n",
    "\n",
    "### Feb 20 1991\n",
    "\n",
    "### First Release --> 25th Oct, 1996\n",
    "\n",
    "### 3.10.2 --> 14th Jan, 2022\n",
    "\n",
    "### Interpreted\n",
    "\n",
    "### Object Oriented \n",
    "\n",
    "### High Level Language\n",
    "\n",
    "### Glue Programming\n",
    "\n",
    "### No Build Required \n",
    "\n",
    "### Scripting\n",
    "\n",
    "### Powerful Exception Handling\n",
    "\n",
    "### Production Ready Code Deployement\n",
    "\n",
    "### Pythn Debugger written in Python itself, Java's JVM written in C\n",
    "\n",
    "### Python is slower than Java production environment due to run-time system and program on hand to execute.\n",
    "### But despite the run-time settings, python is easy to code takes less number of lines than compared to other high level languages like java, C#... "
   ]
  },
  {
   "cell_type": "code",
   "execution_count": 1,
   "id": "70d7417f",
   "metadata": {},
   "outputs": [
    {
     "name": "stdout",
     "output_type": "stream",
     "text": [
      "Hello Python!\n"
     ]
    }
   ],
   "source": [
    "print(\"Hello Python!\")"
   ]
  },
  {
   "cell_type": "code",
   "execution_count": 2,
   "id": "5ffd3ed2",
   "metadata": {},
   "outputs": [
    {
     "data": {
      "text/plain": [
       "2"
      ]
     },
     "execution_count": 2,
     "metadata": {},
     "output_type": "execute_result"
    }
   ],
   "source": [
    "1+1"
   ]
  },
  {
   "cell_type": "code",
   "execution_count": 3,
   "id": "2232ba3e",
   "metadata": {},
   "outputs": [],
   "source": [
    "a = 1+2+3+\\\n",
    "    4+5+6+\\\n",
    "    7+7+8;"
   ]
  },
  {
   "cell_type": "code",
   "execution_count": 4,
   "id": "071fec1a",
   "metadata": {},
   "outputs": [
    {
     "data": {
      "text/plain": [
       "43"
      ]
     },
     "execution_count": 4,
     "metadata": {},
     "output_type": "execute_result"
    }
   ],
   "source": [
    "a"
   ]
  },
  {
   "cell_type": "code",
   "execution_count": 5,
   "id": "976d5685",
   "metadata": {},
   "outputs": [],
   "source": [
    "a = (1+2+3+4+5+6+7+8+9);"
   ]
  },
  {
   "cell_type": "code",
   "execution_count": 6,
   "id": "87cc0757",
   "metadata": {},
   "outputs": [
    {
     "data": {
      "text/plain": [
       "45"
      ]
     },
     "execution_count": 6,
     "metadata": {},
     "output_type": "execute_result"
    }
   ],
   "source": [
    "a"
   ]
  },
  {
   "cell_type": "code",
   "execution_count": 7,
   "id": "b1ddadce",
   "metadata": {},
   "outputs": [],
   "source": [
    "colors = ['red','green','blue']"
   ]
  },
  {
   "cell_type": "code",
   "execution_count": 8,
   "id": "eadeb257",
   "metadata": {},
   "outputs": [
    {
     "data": {
      "text/plain": [
       "['red', 'green', 'blue']"
      ]
     },
     "execution_count": 8,
     "metadata": {},
     "output_type": "execute_result"
    }
   ],
   "source": [
    "colors"
   ]
  },
  {
   "cell_type": "code",
   "execution_count": 9,
   "id": "55ed1dde",
   "metadata": {},
   "outputs": [],
   "source": [
    "a = 1; b = 2; c=3;"
   ]
  },
  {
   "cell_type": "code",
   "execution_count": 10,
   "id": "b67c1406",
   "metadata": {},
   "outputs": [
    {
     "data": {
      "text/plain": [
       "1"
      ]
     },
     "execution_count": 10,
     "metadata": {},
     "output_type": "execute_result"
    }
   ],
   "source": [
    "a"
   ]
  },
  {
   "cell_type": "code",
   "execution_count": 11,
   "id": "4f6c1c3d",
   "metadata": {},
   "outputs": [
    {
     "data": {
      "text/plain": [
       "2"
      ]
     },
     "execution_count": 11,
     "metadata": {},
     "output_type": "execute_result"
    }
   ],
   "source": [
    "b"
   ]
  },
  {
   "cell_type": "code",
   "execution_count": 12,
   "id": "e3878885",
   "metadata": {},
   "outputs": [
    {
     "data": {
      "text/plain": [
       "3"
      ]
     },
     "execution_count": 12,
     "metadata": {},
     "output_type": "execute_result"
    }
   ],
   "source": [
    "c"
   ]
  },
  {
   "cell_type": "code",
   "execution_count": 13,
   "id": "9c6d15a7",
   "metadata": {},
   "outputs": [],
   "source": [
    "#This is a comment"
   ]
  },
  {
   "cell_type": "code",
   "execution_count": 14,
   "id": "b27da02d",
   "metadata": {
    "scrolled": true
   },
   "outputs": [
    {
     "name": "stdout",
     "output_type": "stream",
     "text": [
      "Hello\n"
     ]
    }
   ],
   "source": [
    "#print out Hello\n",
    "print('Hello');"
   ]
  },
  {
   "cell_type": "code",
   "execution_count": 15,
   "id": "147830d2",
   "metadata": {},
   "outputs": [
    {
     "data": {
      "text/plain": [
       "' This is a example of comment'"
      ]
     },
     "execution_count": 15,
     "metadata": {},
     "output_type": "execute_result"
    }
   ],
   "source": [
    "\"\"\" This is a example of comment\"\"\""
   ]
  },
  {
   "cell_type": "code",
   "execution_count": 16,
   "id": "562aa2ee",
   "metadata": {},
   "outputs": [
    {
     "name": "stdout",
     "output_type": "stream",
     "text": [
      "Hello\n"
     ]
    }
   ],
   "source": [
    "\"\"\" This is a example of comment \"\"\"\n",
    "#print out Hello\n",
    "print('Hello');"
   ]
  },
  {
   "cell_type": "markdown",
   "id": "c5b7cb97",
   "metadata": {},
   "source": [
    "## Python docstrings"
   ]
  },
  {
   "cell_type": "code",
   "execution_count": 17,
   "id": "75a1cd69",
   "metadata": {},
   "outputs": [
    {
     "name": "stdout",
     "output_type": "stream",
     "text": [
      "Function to double the value\n"
     ]
    }
   ],
   "source": [
    "num  = 2;\n",
    "def double(num):\n",
    "    \"\"\"Function to double the value\"\"\"\n",
    "    return 2*num;\n",
    "print(double.__doc__)"
   ]
  },
  {
   "cell_type": "code",
   "execution_count": 18,
   "id": "6668aea8",
   "metadata": {},
   "outputs": [
    {
     "name": "stdout",
     "output_type": "stream",
     "text": [
      "<function double at 0x0000018E4EDE9288>\n"
     ]
    }
   ],
   "source": [
    "print(double)"
   ]
  },
  {
   "cell_type": "code",
   "execution_count": 19,
   "id": "140b8cd7",
   "metadata": {},
   "outputs": [
    {
     "data": {
      "text/plain": [
       "8"
      ]
     },
     "execution_count": 19,
     "metadata": {},
     "output_type": "execute_result"
    }
   ],
   "source": [
    "double(4)"
   ]
  }
 ],
 "metadata": {
  "kernelspec": {
   "display_name": "Python 3 (ipykernel)",
   "language": "python",
   "name": "python3"
  },
  "language_info": {
   "codemirror_mode": {
    "name": "ipython",
    "version": 3
   },
   "file_extension": ".py",
   "mimetype": "text/x-python",
   "name": "python",
   "nbconvert_exporter": "python",
   "pygments_lexer": "ipython3",
   "version": "3.7.11"
  }
 },
 "nbformat": 4,
 "nbformat_minor": 5
}
