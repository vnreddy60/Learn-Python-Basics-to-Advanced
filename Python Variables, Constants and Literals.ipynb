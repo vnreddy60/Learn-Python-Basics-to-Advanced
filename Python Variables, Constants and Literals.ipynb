{
 "cells": [
  {
   "cell_type": "markdown",
   "id": "5a82f226",
   "metadata": {},
   "source": [
    "## Python Variables"
   ]
  },
  {
   "cell_type": "code",
   "execution_count": 1,
   "id": "780ee639",
   "metadata": {},
   "outputs": [],
   "source": [
    "number  = 10"
   ]
  },
  {
   "cell_type": "code",
   "execution_count": 2,
   "id": "48e42519",
   "metadata": {},
   "outputs": [
    {
     "data": {
      "text/plain": [
       "10"
      ]
     },
     "execution_count": 2,
     "metadata": {},
     "output_type": "execute_result"
    }
   ],
   "source": [
    "number"
   ]
  },
  {
   "cell_type": "code",
   "execution_count": 3,
   "id": "320ba418",
   "metadata": {},
   "outputs": [],
   "source": [
    "number = 1.1"
   ]
  },
  {
   "cell_type": "code",
   "execution_count": 4,
   "id": "eeacbd36",
   "metadata": {},
   "outputs": [
    {
     "data": {
      "text/plain": [
       "1.1"
      ]
     },
     "execution_count": 4,
     "metadata": {},
     "output_type": "execute_result"
    }
   ],
   "source": [
    "number"
   ]
  },
  {
   "cell_type": "markdown",
   "id": "ae42cdf0",
   "metadata": {},
   "source": [
    "## Assigning values to Variables in Python"
   ]
  },
  {
   "cell_type": "code",
   "execution_count": 5,
   "id": "f28a397b",
   "metadata": {},
   "outputs": [
    {
     "name": "stdout",
     "output_type": "stream",
     "text": [
      "apple.com\n"
     ]
    }
   ],
   "source": [
    "website = \"apple.com\"\n",
    "print(website)"
   ]
  },
  {
   "cell_type": "markdown",
   "id": "d91344ca",
   "metadata": {},
   "source": [
    "#### Note: Python is a type-inferred language, so you don't have to explicitly define the variable type. It automatically knows that apple.com is a string and declares the website variable as a string."
   ]
  },
  {
   "cell_type": "markdown",
   "id": "9a69d316",
   "metadata": {},
   "source": [
    "## Changing the value of a variable"
   ]
  },
  {
   "cell_type": "code",
   "execution_count": 6,
   "id": "bf98e4a0",
   "metadata": {},
   "outputs": [
    {
     "name": "stdout",
     "output_type": "stream",
     "text": [
      "apple.com\n",
      "keepmotive.com\n"
     ]
    }
   ],
   "source": [
    "website = \"apple.com\"\n",
    "print(website)\n",
    "#assigning a new value to website\n",
    "website = \"keepmotive.com\"\n",
    "print(websiteite)"
   ]
  },
  {
   "cell_type": "code",
   "execution_count": 7,
   "id": "fb0fede0",
   "metadata": {},
   "outputs": [
    {
     "name": "stdout",
     "output_type": "stream",
     "text": [
      "5\n",
      "3.2\n",
      "Hello\n"
     ]
    }
   ],
   "source": [
    "a,b,c = 5,3.2,\"Hello\"\n",
    "print(a)\n",
    "print(b)\n",
    "print(c)"
   ]
  },
  {
   "cell_type": "code",
   "execution_count": 8,
   "id": "45d0e69f",
   "metadata": {},
   "outputs": [
    {
     "name": "stdout",
     "output_type": "stream",
     "text": [
      "same\n",
      "same\n",
      "same\n"
     ]
    }
   ],
   "source": [
    "x = y = z = \"same\"\n",
    "print(x)\n",
    "print(y)\n",
    "print(z)"
   ]
  },
  {
   "cell_type": "markdown",
   "id": "7e8491f8",
   "metadata": {},
   "source": [
    "## Constants"
   ]
  },
  {
   "cell_type": "code",
   "execution_count": 9,
   "id": "4bd62dd8",
   "metadata": {},
   "outputs": [],
   "source": [
    "PI = 3.14;"
   ]
  },
  {
   "cell_type": "code",
   "execution_count": 10,
   "id": "c75196cb",
   "metadata": {},
   "outputs": [],
   "source": [
    "GRAVITY = 9.8"
   ]
  },
  {
   "cell_type": "code",
   "execution_count": 11,
   "id": "4043c051",
   "metadata": {},
   "outputs": [
    {
     "data": {
      "text/plain": [
       "3.14"
      ]
     },
     "execution_count": 11,
     "metadata": {},
     "output_type": "execute_result"
    }
   ],
   "source": [
    "PI"
   ]
  },
  {
   "cell_type": "code",
   "execution_count": 12,
   "id": "bcdc0296",
   "metadata": {},
   "outputs": [
    {
     "data": {
      "text/plain": [
       "9.8"
      ]
     },
     "execution_count": 12,
     "metadata": {},
     "output_type": "execute_result"
    }
   ],
   "source": [
    "GRAVITY"
   ]
  },
  {
   "cell_type": "markdown",
   "id": "49e56c9f",
   "metadata": {},
   "source": [
    "###### In Python, constants are usually declared and assigned in a module. Here, the module is a new file containing variables, functions, etc which is imported to the main file. Inside the module, constants are written in all capital letters and underscores separating the words."
   ]
  },
  {
   "cell_type": "markdown",
   "id": "cc691d88",
   "metadata": {},
   "source": [
    "## Literals"
   ]
  },
  {
   "cell_type": "markdown",
   "id": "93277781",
   "metadata": {},
   "source": [
    "### Literal is a raw data given in a variable or constant. In Python, there are various types of literals they are as follows:"
   ]
  },
  {
   "cell_type": "code",
   "execution_count": null,
   "id": "27f78b9e",
   "metadata": {},
   "outputs": [],
   "source": []
  }
 ],
 "metadata": {
  "kernelspec": {
   "display_name": "Python 3 (ipykernel)",
   "language": "python",
   "name": "python3"
  },
  "language_info": {
   "codemirror_mode": {
    "name": "ipython",
    "version": 3
   },
   "file_extension": ".py",
   "mimetype": "text/x-python",
   "name": "python",
   "nbconvert_exporter": "python",
   "pygments_lexer": "ipython3",
   "version": "3.7.11"
  }
 },
 "nbformat": 4,
 "nbformat_minor": 5
}
