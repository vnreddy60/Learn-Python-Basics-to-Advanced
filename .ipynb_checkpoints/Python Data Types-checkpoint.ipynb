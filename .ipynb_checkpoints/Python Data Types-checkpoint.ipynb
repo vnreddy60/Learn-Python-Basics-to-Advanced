{
 "cells": [
  {
   "cell_type": "markdown",
   "id": "7d57ab1d",
   "metadata": {},
   "source": [
    "### Data Types in Python\n",
    "\n",
    "##### Every value in Python has a datatype. Since everything is an Object in Python Programming, data types are actually classes and variables are instancce (Object) of these classes."
   ]
  },
  {
   "cell_type": "markdown",
   "id": "fe4119d4",
   "metadata": {},
   "source": [
    "### Python Numbers\n",
    "\n",
    "Integers, floating point numbers and complex numbers fall under Python Numbers category. They are defined as int, float and comples classes in Python.\n",
    "\n",
    "we can use the type() function to know which class a variable or a value belongs to.\n",
    "\n",
    "Similarly, the isinstance() function is  used to check if an object belongs to a particular class"
   ]
  },
  {
   "cell_type": "code",
   "execution_count": 1,
   "id": "de8e5a9d",
   "metadata": {},
   "outputs": [
    {
     "name": "stdout",
     "output_type": "stream",
     "text": [
      "5  is a type  <class 'int'>\n"
     ]
    }
   ],
   "source": [
    "a = 5\n",
    "print(a,\" is a type \", type(a))"
   ]
  },
  {
   "cell_type": "code",
   "execution_count": 3,
   "id": "10e82884",
   "metadata": {},
   "outputs": [
    {
     "name": "stdout",
     "output_type": "stream",
     "text": [
      "2.0  is a type  <class 'float'>\n"
     ]
    }
   ],
   "source": [
    "a = 2.0\n",
    "print(a, \" is a type \", type(a))"
   ]
  },
  {
   "cell_type": "code",
   "execution_count": 4,
   "id": "2f365891",
   "metadata": {},
   "outputs": [
    {
     "name": "stdout",
     "output_type": "stream",
     "text": [
      "(1+2j)  is complex number ?  True\n"
     ]
    }
   ],
   "source": [
    "a  =1+2j\n",
    "print(a, \" is complex number ? \", isinstance(a,complex))"
   ]
  },
  {
   "cell_type": "code",
   "execution_count": 6,
   "id": "ec2881a7",
   "metadata": {},
   "outputs": [],
   "source": [
    "###Integers can be of any length, it is only limited by the memory available.\n",
    "\n",
    "###A floating-point number is accurate up to 15 decimal places. Integer and floating points are separated by decimal points. 1 is an integer, 1.0 is a floating-point number.\n",
    "\n",
    "###Complex numbers are written in the form, x + yj, where x is the real part and y is the imaginary part."
   ]
  },
  {
   "cell_type": "markdown",
   "id": "8e07ae51",
   "metadata": {},
   "source": [
    "### Python List"
   ]
  },
  {
   "cell_type": "code",
   "execution_count": null,
   "id": "d86dd074",
   "metadata": {},
   "outputs": [],
   "source": []
  }
 ],
 "metadata": {
  "kernelspec": {
   "display_name": "Python 3 (ipykernel)",
   "language": "python",
   "name": "python3"
  },
  "language_info": {
   "codemirror_mode": {
    "name": "ipython",
    "version": 3
   },
   "file_extension": ".py",
   "mimetype": "text/x-python",
   "name": "python",
   "nbconvert_exporter": "python",
   "pygments_lexer": "ipython3",
   "version": "3.7.11"
  }
 },
 "nbformat": 4,
 "nbformat_minor": 5
}
