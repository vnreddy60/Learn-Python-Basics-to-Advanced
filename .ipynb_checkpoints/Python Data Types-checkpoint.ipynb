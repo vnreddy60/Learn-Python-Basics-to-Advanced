{
 "cells": [
  {
   "cell_type": "markdown",
   "id": "ac894b48",
   "metadata": {},
   "source": [
    "### Data Types in Python\n",
    "\n",
    "##### Every value in Python has a datatype. Since everything is an Object in Python Programming, data types are actually classes and variables are instancce (Object) of these classes."
   ]
  },
  {
   "cell_type": "markdown",
   "id": "7fc87f27",
   "metadata": {},
   "source": [
    "### Python Numbers\n",
    "\n",
    "Integers, floating point numbers and complex numbers fall under Python Numbers category. They are defined as int, float and comples classes in Python.\n",
    "\n",
    "we can use the type() function to know which class a variable or a value belongs to.\n",
    "\n",
    "Similarly, the isinstance() function is  used to check if an object belongs to a particular class"
   ]
  },
  {
   "cell_type": "code",
   "execution_count": 1,
   "id": "66ee29e6",
   "metadata": {},
   "outputs": [
    {
     "name": "stdout",
     "output_type": "stream",
     "text": [
      "5  is a type  <class 'int'>\n"
     ]
    }
   ],
   "source": [
    "a = 5\n",
    "print(a,\" is a type \", type(a))"
   ]
  },
  {
   "cell_type": "code",
   "execution_count": 3,
   "id": "02d1cb45",
   "metadata": {},
   "outputs": [
    {
     "name": "stdout",
     "output_type": "stream",
     "text": [
      "2.0  is a type  <class 'float'>\n"
     ]
    }
   ],
   "source": [
    "a = 2.0\n",
    "print(a, \" is a type \", type(a))"
   ]
  },
  {
   "cell_type": "code",
   "execution_count": 4,
   "id": "df889824",
   "metadata": {},
   "outputs": [
    {
     "name": "stdout",
     "output_type": "stream",
     "text": [
      "(1+2j)  is complex number ?  True\n"
     ]
    }
   ],
   "source": [
    "a  =1+2j\n",
    "print(a, \" is complex number ? \", isinstance(a,complex))"
   ]
  },
  {
   "cell_type": "code",
   "execution_count": 6,
   "id": "bad79a23",
   "metadata": {},
   "outputs": [],
   "source": [
    "###Integers can be of any length, it is only limited by the memory available.\n",
    "\n",
    "###A floating-point number is accurate up to 15 decimal places. Integer and floating points are separated by decimal points. 1 is an integer, 1.0 is a floating-point number.\n",
    "\n",
    "###Complex numbers are written in the form, x + yj, where x is the real part and y is the imaginary part."
   ]
  },
  {
   "cell_type": "markdown",
   "id": "c4a6805d",
   "metadata": {},
   "source": [
    "### Python List"
   ]
  },
  {
   "cell_type": "code",
   "execution_count": 9,
   "id": "87bca05c",
   "metadata": {},
   "outputs": [],
   "source": [
    "#List is an ordered sequence of items.\n",
    "#Flexible in usage\n",
    "#All the items in a list do not need to be of the same type\n",
    "\n",
    "## declaring the list is pretty striaght forward.\n",
    "## Items separted by commas are enclosed within brackets []."
   ]
  },
  {
   "cell_type": "code",
   "execution_count": 1,
   "id": "a29f85da",
   "metadata": {},
   "outputs": [
    {
     "name": "stdout",
     "output_type": "stream",
     "text": [
      "[1, 2, 2, 'Python']\n"
     ]
    }
   ],
   "source": [
    "a = [1,2,2,'Python']\n",
    "print(a)"
   ]
  },
  {
   "cell_type": "code",
   "execution_count": 2,
   "id": "d4965784",
   "metadata": {},
   "outputs": [
    {
     "name": "stdout",
     "output_type": "stream",
     "text": [
      "[1, 2, 3, 4, 5, 6, 7, 8, 9, 10, 11, 13, 14, 15]\n"
     ]
    }
   ],
   "source": [
    "a = [1,2,3,4,5,6,7,8,9,10,11,13,14,15]\n",
    "print(a)"
   ]
  },
  {
   "cell_type": "code",
   "execution_count": 3,
   "id": "42495f65",
   "metadata": {},
   "outputs": [
    {
     "name": "stdout",
     "output_type": "stream",
     "text": [
      "3\n"
     ]
    }
   ],
   "source": [
    "print(a[2])"
   ]
  },
  {
   "cell_type": "code",
   "execution_count": 4,
   "id": "466c8074",
   "metadata": {},
   "outputs": [
    {
     "name": "stdout",
     "output_type": "stream",
     "text": [
      "[1, 2, 3]\n"
     ]
    }
   ],
   "source": [
    "print(a[0:3])"
   ]
  },
  {
   "cell_type": "code",
   "execution_count": 5,
   "id": "281a4f82",
   "metadata": {},
   "outputs": [
    {
     "name": "stdout",
     "output_type": "stream",
     "text": [
      "[6, 7, 8, 9, 10, 11, 13, 14, 15]\n"
     ]
    }
   ],
   "source": [
    "print(a[5:])"
   ]
  },
  {
   "cell_type": "markdown",
   "id": "9ade9175",
   "metadata": {},
   "source": [
    "### Python Tuple"
   ]
  },
  {
   "cell_type": "code",
   "execution_count": 6,
   "id": "089ecf0e",
   "metadata": {},
   "outputs": [],
   "source": [
    "## Tuple is an ordered sequence of items same as a list.\n",
    "## The only difference is that tuples are immutable.\n",
    "## Tuples once created cannot be modified.\n",
    "\n",
    "## Tuples are used to write-protect data and are usually faster than\n",
    "## lists as they cannot change dynamically.\n",
    "\n",
    "## It is defined within parentheses () where items are saperated nby commas."
   ]
  },
  {
   "cell_type": "code",
   "execution_count": 7,
   "id": "8754ce6e",
   "metadata": {},
   "outputs": [],
   "source": [
    "t = (5,'Program',1+3j)"
   ]
  },
  {
   "cell_type": "code",
   "execution_count": 8,
   "id": "8e016eac",
   "metadata": {},
   "outputs": [
    {
     "name": "stdout",
     "output_type": "stream",
     "text": [
      "(5, 'Program', (1+3j))\n"
     ]
    }
   ],
   "source": [
    "print(t)"
   ]
  },
  {
   "cell_type": "code",
   "execution_count": 9,
   "id": "efeced81",
   "metadata": {},
   "outputs": [
    {
     "name": "stdout",
     "output_type": "stream",
     "text": [
      "Program\n"
     ]
    }
   ],
   "source": [
    "print(t[1])"
   ]
  },
  {
   "cell_type": "markdown",
   "id": "f098a161",
   "metadata": {},
   "source": [
    "### Python Set"
   ]
  },
  {
   "cell_type": "code",
   "execution_count": 10,
   "id": "f4879aa7",
   "metadata": {},
   "outputs": [],
   "source": [
    "##Set is an unordered collection of unique items\n",
    "##Set is defined by the values separated by comma inside brances {}.\n",
    "##Items in the set are not ordered "
   ]
  },
  {
   "cell_type": "code",
   "execution_count": 11,
   "id": "a059e4cb",
   "metadata": {},
   "outputs": [
    {
     "name": "stdout",
     "output_type": "stream",
     "text": [
      "{1, 2, 3, 4, 5}\n"
     ]
    }
   ],
   "source": [
    "a = {5,2,3,4,1,4}\n",
    "print(a)"
   ]
  },
  {
   "cell_type": "code",
   "execution_count": 12,
   "id": "f75ff3e6",
   "metadata": {},
   "outputs": [],
   "source": [
    "## No duplicates allowed"
   ]
  },
  {
   "cell_type": "markdown",
   "id": "92400245",
   "metadata": {},
   "source": [
    "### Python Dictionary"
   ]
  },
  {
   "cell_type": "code",
   "execution_count": 26,
   "id": "680c03ae",
   "metadata": {},
   "outputs": [],
   "source": [
    "## Dictionary is an unordered collection of key-value pairs\n",
    "## It is generally used when we have a huge amounnt of data.\n",
    "## we must know the key "
   ]
  },
  {
   "cell_type": "code",
   "execution_count": 13,
   "id": "bc457bb1",
   "metadata": {},
   "outputs": [
    {
     "data": {
      "text/plain": [
       "dict"
      ]
     },
     "execution_count": 13,
     "metadata": {},
     "output_type": "execute_result"
    }
   ],
   "source": [
    "d = {1:'value','key':2}\n",
    "type(d)"
   ]
  },
  {
   "cell_type": "code",
   "execution_count": 14,
   "id": "374011a4",
   "metadata": {},
   "outputs": [
    {
     "name": "stdout",
     "output_type": "stream",
     "text": [
      "{1: 'value', 'key': 2}\n"
     ]
    }
   ],
   "source": [
    "print(d)"
   ]
  },
  {
   "cell_type": "code",
   "execution_count": 15,
   "id": "f258e70a",
   "metadata": {},
   "outputs": [
    {
     "name": "stdout",
     "output_type": "stream",
     "text": [
      "s=d[1] value\n"
     ]
    }
   ],
   "source": [
    "print(\"s=d[1]\", d[1])"
   ]
  },
  {
   "cell_type": "markdown",
   "id": "5af8a46a",
   "metadata": {},
   "source": [
    "### Coversion between Data Types"
   ]
  },
  {
   "cell_type": "code",
   "execution_count": 16,
   "id": "3976268e",
   "metadata": {},
   "outputs": [],
   "source": [
    "# We can convert between different data types by using different type\n",
    "# conversion functions like int(), float(), str() etc."
   ]
  },
  {
   "cell_type": "code",
   "execution_count": null,
   "id": "1c0b2260",
   "metadata": {},
   "outputs": [],
   "source": []
  }
 ],
 "metadata": {
  "kernelspec": {
   "display_name": "Python 3 (ipykernel)",
   "language": "python",
   "name": "python3"
  },
  "language_info": {
   "codemirror_mode": {
    "name": "ipython",
    "version": 3
   },
   "file_extension": ".py",
   "mimetype": "text/x-python",
   "name": "python",
   "nbconvert_exporter": "python",
   "pygments_lexer": "ipython3",
   "version": "3.7.11"
  }
 },
 "nbformat": 4,
 "nbformat_minor": 5
}
