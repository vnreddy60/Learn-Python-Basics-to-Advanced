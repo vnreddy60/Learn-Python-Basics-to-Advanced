{
 "cells": [
  {
   "cell_type": "code",
   "execution_count": 1,
   "id": "f6acac63",
   "metadata": {},
   "outputs": [
    {
     "name": "stdout",
     "output_type": "stream",
     "text": [
      "This sentence is output to the screen\n"
     ]
    }
   ],
   "source": [
    "print('This sentence is output to the screen')"
   ]
  },
  {
   "cell_type": "code",
   "execution_count": 7,
   "id": "84df77e9",
   "metadata": {},
   "outputs": [
    {
     "name": "stdout",
     "output_type": "stream",
     "text": [
      "The value of a is 5\n"
     ]
    }
   ],
   "source": [
    "a = 5\n",
    "print(\"The value of a is\",a)"
   ]
  },
  {
   "cell_type": "code",
   "execution_count": null,
   "id": "aaeeaadf",
   "metadata": {},
   "outputs": [],
   "source": []
  }
 ],
 "metadata": {
  "kernelspec": {
   "display_name": "Python 3 (ipykernel)",
   "language": "python",
   "name": "python3"
  },
  "language_info": {
   "codemirror_mode": {
    "name": "ipython",
    "version": 3
   },
   "file_extension": ".py",
   "mimetype": "text/x-python",
   "name": "python",
   "nbconvert_exporter": "python",
   "pygments_lexer": "ipython3",
   "version": "3.7.11"
  }
 },
 "nbformat": 4,
 "nbformat_minor": 5
}
