{
 "cells": [
  {
   "cell_type": "code",
   "execution_count": 2,
   "id": "fc427ada",
   "metadata": {},
   "outputs": [],
   "source": [
    "## Type Conversion\n",
    "\n",
    "# The process of converting the value of one data type (integer, String, float, etc)\n",
    "\n",
    "# to anaother data type is called as Type  Conversion.\n",
    "\n",
    "# Python and all most all high level languages as this  feature \n",
    "\n",
    "#1. Implicit Type Conversion --> Lower Data Type to Higher Data Type\n",
    "  \n",
    "#2. Explicit Type Conversion --> Higher Data Type to Lower Data Type"
   ]
  },
  {
   "cell_type": "code",
   "execution_count": 4,
   "id": "75ea9231",
   "metadata": {},
   "outputs": [
    {
     "name": "stdout",
     "output_type": "stream",
     "text": [
      "<class 'float'>\n"
     ]
    }
   ],
   "source": [
    "#Implicit Type Conversion\n",
    "a = 10\n",
    "b = 19.5\n",
    "\n",
    "c = a+b\n",
    "\n",
    "print(type(c))"
   ]
  },
  {
   "cell_type": "code",
   "execution_count": 5,
   "id": "7dc1f230",
   "metadata": {},
   "outputs": [
    {
     "name": "stdout",
     "output_type": "stream",
     "text": [
      "30\n"
     ]
    }
   ],
   "source": [
    "#Explicit Type Conversion\n",
    "\n",
    "a = 10\n",
    "\n",
    "b = \"20\"\n",
    "\n",
    "b = int(b)\n",
    "\n",
    "c = a+b\n",
    "\n",
    "print(c)"
   ]
  },
  {
   "cell_type": "code",
   "execution_count": 6,
   "id": "378f1a31",
   "metadata": {},
   "outputs": [],
   "source": [
    "#Type Conversion is the conversion of object from one data type to another data type.\n",
    "#Implicit Type Conversion is automatically performed by the Python interpreter.\n",
    "#Python avoids the loss of data in Implicit Type Conversion.\n",
    "#Explicit Type Conversion is also called Type Casting, the data types of objects are converted using predefined functions by the user.\n",
    "#In Type Casting, loss of data may occur as we enforce the object to a specific data type."
   ]
  }
 ],
 "metadata": {
  "kernelspec": {
   "display_name": "Python 3 (ipykernel)",
   "language": "python",
   "name": "python3"
  },
  "language_info": {
   "codemirror_mode": {
    "name": "ipython",
    "version": 3
   },
   "file_extension": ".py",
   "mimetype": "text/x-python",
   "name": "python",
   "nbconvert_exporter": "python",
   "pygments_lexer": "ipython3",
   "version": "3.7.11"
  }
 },
 "nbformat": 4,
 "nbformat_minor": 5
}
